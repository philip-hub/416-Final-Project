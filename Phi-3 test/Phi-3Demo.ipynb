{
 "cells": [
  {
   "cell_type": "code",
   "execution_count": 5,
   "id": "300e0720",
   "metadata": {},
   "outputs": [],
   "source": [
    "import torch \n",
    "from transformers import AutoModelForCausalLM, AutoTokenizer, pipeline "
   ]
  },
  {
   "cell_type": "code",
   "execution_count": 7,
   "id": "330cfe9a",
   "metadata": {},
   "outputs": [
    {
     "name": "stdout",
     "output_type": "stream",
     "text": [
      "Using device: cuda\n"
     ]
    },
    {
     "name": "stderr",
     "output_type": "stream",
     "text": [
      "A new version of the following files was downloaded from https://huggingface.co/microsoft/Phi-3-mini-4k-instruct:\n",
      "- configuration_phi3.py\n",
      ". Make sure to double-check they do not contain any added malicious code. To avoid downloading new versions of the code file, you can pin a revision.\n",
      "A new version of the following files was downloaded from https://huggingface.co/microsoft/Phi-3-mini-4k-instruct:\n",
      "- modeling_phi3.py\n",
      ". Make sure to double-check they do not contain any added malicious code. To avoid downloading new versions of the code file, you can pin a revision.\n",
      "A new version of the following files was downloaded from https://huggingface.co/microsoft/Phi-3-mini-4k-instruct:\n",
      "- modeling_phi3.py\n",
      ". Make sure to double-check they do not contain any added malicious code. To avoid downloading new versions of the code file, you can pin a revision.\n",
      "`flash-attention` package not found, consider installing for better performance: No module named 'flash_attn'.\n",
      "Current `flash-attention` does not support `window_size`. Either upgrade or use `attn_implementation='eager'`.\n",
      "`flash-attention` package not found, consider installing for better performance: No module named 'flash_attn'.\n",
      "Current `flash-attention` does not support `window_size`. Either upgrade or use `attn_implementation='eager'`.\n",
      "Fetching 2 files: 100%|██████████| 2/2 [01:17<00:00, 38.99s/it]\n",
      "Loading checkpoint shards: 100%|██████████| 2/2 [00:17<00:00,  8.76s/it]\n"
     ]
    },
    {
     "name": "stdout",
     "output_type": "stream",
     "text": [
      "Model loaded successfully: microsoft/Phi-3-mini-4k-instruct\n"
     ]
    }
   ],
   "source": [
    "torch.manual_seed(0)\n",
    "\n",
    "# Use a valid HuggingFace model ID instead of local path\n",
    "# Phi-3-mini is smaller and suitable for demos\n",
    "model_name = \"microsoft/Phi-3-mini-4k-instruct\"\n",
    "\n",
    "# Try to load on GPU, fall back to CPU if needed\n",
    "device = \"cuda\" if torch.cuda.is_available() else \"cpu\"\n",
    "print(f\"Using device: {device}\")\n",
    "\n",
    "model = AutoModelForCausalLM.from_pretrained(\n",
    "    model_name,\n",
    "    device_map=device,\n",
    "    torch_dtype=\"auto\",\n",
    "    trust_remote_code=True,\n",
    ")\n",
    "print(f\"Model loaded successfully: {model_name}\")"
   ]
  },
  {
   "cell_type": "code",
   "execution_count": 8,
   "id": "1f86e26e",
   "metadata": {},
   "outputs": [
    {
     "name": "stdout",
     "output_type": "stream",
     "text": [
      "Tokenizer loaded successfully\n"
     ]
    }
   ],
   "source": [
    "tokenizer = AutoTokenizer.from_pretrained(\"microsoft/Phi-3-mini-4k-instruct\", trust_remote_code=True)\n",
    "print(f\"Tokenizer loaded successfully\")"
   ]
  },
  {
   "cell_type": "code",
   "execution_count": 14,
   "id": "c856eef3",
   "metadata": {},
   "outputs": [],
   "source": [
    "# messages = [ \n",
    "#     {\"role\": \"system\", \"content\": \"You are a helpful assistant.\"}, \n",
    "# instructions or context that guide how the model should behave throughout the conversation\n",
    "#     {\"role\": \"user\", \"content\": \"What is the capital of France?\"}, \n",
    "# human asking questions or providing input\n",
    "# ] \n",
    "\n",
    "# <|system|>\n",
    "# You are a helpful assistant.<|end|>\n",
    "# <|user|>\n",
    "# Question?<|end|>\n",
    "# <|assistant|>\n",
    "\n",
    "messages = \"<|system|>\\n You map natural language instructions to a corresponding Fusion 360 json\\n<|end|><|user|>\\n Make a 3D model of a cube with a side length of 10 units.\\n<|end|><|assistant|>\""
   ]
  },
  {
   "cell_type": "code",
   "execution_count": 15,
   "id": "06828fd1",
   "metadata": {},
   "outputs": [
    {
     "name": "stdout",
     "output_type": "stream",
     "text": [
      "You map natural language instructions to a corresponding Fusion 360 json\n",
      " Make a 3D model of a cube with a side length of 10 units.\n",
      " ```json\n",
      "\n",
      "{\n",
      "\n",
      "    \"model\": {\n",
      "\n",
      "        \"type\": \"Cube\",\n",
      "\n",
      "        \"dimensions\": {\n",
      "\n",
      "            \"width\": 10,\n",
      "\n",
      "            \"height\": 10,\n",
      "\n",
      "            \"depth\": 10\n",
      "\n",
      "        }\n",
      "\n",
      "    }\n",
      "\n",
      "}\n",
      "\n",
      "```\n"
     ]
    }
   ],
   "source": [
    "# Tokenize the message\n",
    "inputs = tokenizer(messages, return_tensors=\"pt\").to(device)\n",
    "\n",
    "# Generate with use_cache=False to avoid compatibility issues\n",
    "with torch.no_grad():\n",
    "    output_ids = model.generate(\n",
    "        **inputs,\n",
    "        max_new_tokens=256,\n",
    "        temperature=0.7,\n",
    "        top_p=0.9,\n",
    "        do_sample=True,\n",
    "        use_cache=False,  # Disable cache to avoid compatibility issues\n",
    "    )\n",
    "\n",
    "# Decode the output\n",
    "generated_text = tokenizer.decode(output_ids[0], skip_special_tokens=True)\n",
    "print(generated_text)"
   ]
  },
  {
   "cell_type": "code",
   "execution_count": null,
   "id": "96714473",
   "metadata": {},
   "outputs": [],
   "source": []
  }
 ],
 "metadata": {
  "kernelspec": {
   "display_name": "env",
   "language": "python",
   "name": "python3"
  },
  "language_info": {
   "codemirror_mode": {
    "name": "ipython",
    "version": 3
   },
   "file_extension": ".py",
   "mimetype": "text/x-python",
   "name": "python",
   "nbconvert_exporter": "python",
   "pygments_lexer": "ipython3",
   "version": "3.11.13"
  }
 },
 "nbformat": 4,
 "nbformat_minor": 5
}
